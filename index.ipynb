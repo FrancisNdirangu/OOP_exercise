{
 "cells": [
  {
   "cell_type": "markdown",
   "metadata": {},
   "source": [
    "# OOP (Object Oriented Programing)"
   ]
  },
  {
   "cell_type": "markdown",
   "metadata": {},
   "source": [
    "Object-Oriented Programming (OOP) is a programming paradigm that organizes software design around objects rather than functions or logic. An object is a self-contained unit that contains both data (attributes) and procedures (methods) that operate on the data. OOP allows developers to structure their code in a more modular, reusable, and maintainable way, making it easier to manage and scale complex software systems."
   ]
  },
  {
   "cell_type": "markdown",
   "metadata": {},
   "source": [
    "## Class"
   ]
  },
  {
   "cell_type": "markdown",
   "metadata": {},
   "source": [
    "In Object-Oriented Programming (OOP), a class is a blueprint or template for creating objects (instances). It defines a set of attributes (variables) and methods (functions) that describe the behaviors and properties of the objects created from that class. In Python, classes allow you to encapsulate related data and functions into a single unit, facilitating modularity, reusability, and organization of code"
   ]
  },
  {
   "cell_type": "code",
   "execution_count": 1,
   "metadata": {},
   "outputs": [],
   "source": [
    "# variables without class \n",
    "\n",
    "# name \n",
    "# email\n",
    "# phone\n",
    "\n",
    "name  = \"Arithmetic Error\"\n",
    "email = \"test@gmail.com\"\n",
    "phone = \"1234567890\"\n",
    "\n"
   ]
  },
  {
   "cell_type": "code",
   "execution_count": 2,
   "metadata": {},
   "outputs": [],
   "source": [
    "# defining an empty class \n",
    "\n",
    "class student:\n",
    "    pass"
   ]
  },
  {
   "cell_type": "markdown",
   "metadata": {},
   "source": [
    "## instances"
   ]
  },
  {
   "cell_type": "markdown",
   "metadata": {},
   "source": [
    "An instance of a class in Object-Oriented Programming (OOP) refers to a specific object created from a class. When a class is defined, it acts as a blueprint or template, but the actual \"real-world\" objects created based on that blueprint are called instances."
   ]
  },
  {
   "cell_type": "code",
   "execution_count": 3,
   "metadata": {},
   "outputs": [],
   "source": [
    "# an instance of a class \n",
    "\n",
    "sam = student()\n",
    "jane = student()\n",
    "\n"
   ]
  },
  {
   "cell_type": "code",
   "execution_count": 4,
   "metadata": {},
   "outputs": [
    {
     "data": {
      "text/plain": [
       "False"
      ]
     },
     "execution_count": 4,
     "metadata": {},
     "output_type": "execute_result"
    }
   ],
   "source": [
    "sam == jane"
   ]
  },
  {
   "cell_type": "code",
   "execution_count": 5,
   "metadata": {},
   "outputs": [],
   "source": [
    "# instance \n",
    "\n",
    "\n"
   ]
  },
  {
   "cell_type": "code",
   "execution_count": 6,
   "metadata": {},
   "outputs": [],
   "source": [
    "# check Equality \n"
   ]
  },
  {
   "cell_type": "markdown",
   "metadata": {},
   "source": [
    "## Instance Methods "
   ]
  },
  {
   "cell_type": "markdown",
   "metadata": {},
   "source": [
    "Instance methods are functions that are defined within a class and operate on the instances (objects) of that class. They are used to define behaviors or actions that an object (instance) can perform. Instance methods can access and modify the instance's attributes (data) and can also interact with other instance methods of the same class."
   ]
  },
  {
   "cell_type": "code",
   "execution_count": 7,
   "metadata": {},
   "outputs": [],
   "source": [
    "# class with an instance method\n",
    "class Student:\n",
    "     \n",
    "    def mark_absent(self):\n",
    "         self.absent = True\n",
    "    \n",
    "    def print_status(self):\n",
    "        if self.absent:\n",
    "            print(\"Student is absent\")\n",
    "        else:\n",
    "            print(\"Student is present\")    "
   ]
  },
  {
   "cell_type": "code",
   "execution_count": 8,
   "metadata": {},
   "outputs": [],
   "source": [
    "# initialitization \n",
    "\n",
    "sam = Student()\n",
    "\n",
    "sam.mark_absent()\n",
    "\n",
    "\n"
   ]
  },
  {
   "cell_type": "code",
   "execution_count": 9,
   "metadata": {},
   "outputs": [],
   "source": [
    "#calling the instance method chris\n",
    "\n",
    "# chris.print_student_status()\n"
   ]
  },
  {
   "cell_type": "code",
   "execution_count": 10,
   "metadata": {},
   "outputs": [],
   "source": [
    "# checking the result samuel\n",
    "\n",
    "# samuel.print_student_status()\n",
    "\n"
   ]
  },
  {
   "cell_type": "markdown",
   "metadata": {},
   "source": [
    "## A Deeper Dive into self"
   ]
  },
  {
   "cell_type": "markdown",
   "metadata": {},
   "source": [
    "self is a reference to the current instance of the class. It is used within instance methods to refer to the object that the method is being called on. self allows you to access and modify the instance’s attributes and call other methods defined within the class."
   ]
  },
  {
   "cell_type": "code",
   "execution_count": 11,
   "metadata": {},
   "outputs": [],
   "source": [
    "# more on self\n"
   ]
  },
  {
   "cell_type": "code",
   "execution_count": null,
   "metadata": {},
   "outputs": [],
   "source": []
  },
  {
   "cell_type": "markdown",
   "metadata": {},
   "source": [
    "## Object Initialization"
   ]
  },
  {
   "cell_type": "markdown",
   "metadata": {},
   "source": [
    "By using the __init__ method, you can initialize instances of objects with defined attributes. Without this, attributes are not defined until other methods are called to populate these fields, or you set attributes manually."
   ]
  },
  {
   "cell_type": "code",
   "execution_count": 12,
   "metadata": {},
   "outputs": [],
   "source": [
    "# without params\n",
    "\n",
    "class Student:\n",
    "    def __init__(self):\n",
    "        self.name = None\n",
    "        self.email = None\n",
    "        self.phone = None\n",
    "        print(\"Student object created\")\n",
    "    \n",
    "    \n",
    "    def mark_absent(self):\n",
    "         self.absent = True\n",
    "    \n",
    "    def print_status(self):\n",
    "        if self.absent:\n",
    "            print(\"Student is absent\")\n",
    "        else:\n",
    "            print(\"Student is present\")  "
   ]
  },
  {
   "cell_type": "code",
   "execution_count": 13,
   "metadata": {},
   "outputs": [
    {
     "name": "stdout",
     "output_type": "stream",
     "text": [
      "Student object created\n"
     ]
    },
    {
     "data": {
      "text/plain": [
       "<__main__.Student at 0x148d87be040>"
      ]
     },
     "execution_count": 13,
     "metadata": {},
     "output_type": "execute_result"
    }
   ],
   "source": [
    "Student()"
   ]
  },
  {
   "cell_type": "code",
   "execution_count": 14,
   "metadata": {},
   "outputs": [],
   "source": [
    "sam = Student\n",
    "\n",
    "sam.name = \"Samuel karu\"\n"
   ]
  },
  {
   "cell_type": "code",
   "execution_count": 15,
   "metadata": {},
   "outputs": [
    {
     "data": {
      "text/plain": [
       "'Samuel karu'"
      ]
     },
     "execution_count": 15,
     "metadata": {},
     "output_type": "execute_result"
    }
   ],
   "source": [
    "sam.name"
   ]
  },
  {
   "cell_type": "code",
   "execution_count": 17,
   "metadata": {},
   "outputs": [],
   "source": [
    "# with params \n",
    "# also show with default params\n",
    "\n",
    "# without params\n",
    "\n",
    "\n",
    "class Student:\n",
    "    def __init__(self, name, email, phone:int,optinal=None):\n",
    "        self.name = name\n",
    "        self.email = email\n",
    "        self.phone = phone\n",
    "        self.optional = optinal\n",
    "        print(\"Student object created\")\n",
    "    \n",
    "    \n",
    "    def mark_absent(self):\n",
    "         self.absent = True\n",
    "    \n",
    "    def print_status(self):\n",
    "        if self.absent:\n",
    "            print(\"Student is absent\")\n",
    "        else:\n",
    "            print(\"Student is present\") \n",
    "\n"
   ]
  },
  {
   "cell_type": "code",
   "execution_count": 18,
   "metadata": {},
   "outputs": [
    {
     "name": "stdout",
     "output_type": "stream",
     "text": [
      "Student object created\n"
     ]
    }
   ],
   "source": [
    "sam = Student( email=\"test@gmail.com:\", phone=\"1234567890\", name=\"Samuel karu\", optinal=\"optional\")"
   ]
  },
  {
   "cell_type": "code",
   "execution_count": 19,
   "metadata": {},
   "outputs": [],
   "source": [
    "sam = Student"
   ]
  },
  {
   "cell_type": "code",
   "execution_count": 20,
   "metadata": {},
   "outputs": [
    {
     "ename": "AttributeError",
     "evalue": "type object 'Student' has no attribute 'email'",
     "output_type": "error",
     "traceback": [
      "\u001b[1;31m---------------------------------------------------------------------------\u001b[0m",
      "\u001b[1;31mAttributeError\u001b[0m                            Traceback (most recent call last)",
      "\u001b[1;32m<ipython-input-20-51a635ed3313>\u001b[0m in \u001b[0;36m<module>\u001b[1;34m\u001b[0m\n\u001b[1;32m----> 1\u001b[1;33m \u001b[0mprint\u001b[0m\u001b[1;33m(\u001b[0m\u001b[0msam\u001b[0m\u001b[1;33m.\u001b[0m\u001b[0memail\u001b[0m\u001b[1;33m)\u001b[0m\u001b[1;33m\u001b[0m\u001b[1;33m\u001b[0m\u001b[0m\n\u001b[0m",
      "\u001b[1;31mAttributeError\u001b[0m: type object 'Student' has no attribute 'email'"
     ]
    }
   ],
   "source": [
    "print(sam.email)"
   ]
  },
  {
   "cell_type": "markdown",
   "metadata": {},
   "source": [
    "instantiante student with properties "
   ]
  },
  {
   "cell_type": "markdown",
   "metadata": {},
   "source": [
    "## inheritance "
   ]
  },
  {
   "cell_type": "markdown",
   "metadata": {},
   "source": [
    "\n",
    "Inheritance is one of the core principles of Object-Oriented Programming (OOP). It allows a new class (called a child class or subclass) to inherit properties (attributes) and behaviors (methods) from an existing class (called a parent class or superclass). This helps to promote code reusability and establish a relationship between the parent and child classes."
   ]
  },
  {
   "cell_type": "code",
   "execution_count": 21,
   "metadata": {},
   "outputs": [],
   "source": [
    "# class User\n",
    "\n",
    "class User:\n",
    "    def __init__(self,name,email,phone):\n",
    "        self.name = name\n",
    "        self.email = email\n",
    "        self.phone = phone\n",
    "\n",
    "    def send_message(self):\n",
    "        print(f'hello {self.name}')\n",
    "\n"
   ]
  },
  {
   "cell_type": "code",
   "execution_count": 22,
   "metadata": {},
   "outputs": [],
   "source": [
    "# Class Student without inheritance\n",
    "class Student:\n",
    "    def __init__(self,name,email,phone,school_email):\n",
    "        self.name = name\n",
    "        self.email = email\n",
    "        self.phone = phone\n",
    "        self.school_email = school_email\n",
    "\n",
    "    def send_message(self):\n",
    "        print(f'hello {self.name}')\n",
    "        "
   ]
  },
  {
   "cell_type": "code",
   "execution_count": 34,
   "metadata": {},
   "outputs": [],
   "source": [
    "#Class student with inheritance\n",
    "class Student(User):\n",
    "    def __init__(self,name,email,phone,student_email):\n",
    "        super().__init__(name,email,phone)\n",
    "        self.student_email = student_email\n",
    "    \n",
    "    def send_attendance_warning(self):\n",
    "        print(f'{self.name} you have been warned')"
   ]
  },
  {
   "cell_type": "code",
   "execution_count": 40,
   "metadata": {},
   "outputs": [
    {
     "name": "stdout",
     "output_type": "stream",
     "text": [
      "hello samuel\n",
      "samuel you have been warned\n"
     ]
    },
    {
     "data": {
      "text/plain": [
       "'sam@moringa'"
      ]
     },
     "execution_count": 40,
     "metadata": {},
     "output_type": "execute_result"
    }
   ],
   "source": [
    "sam = Student(name='samuel',email='sam@gmail.com',phone=\"071123981\",student_email=\"sam@moringa\")\n",
    "sam.send_message()\n",
    "sam.send_attendance_warning()\n",
    "sam.student_email\n"
   ]
  },
  {
   "cell_type": "code",
   "execution_count": null,
   "metadata": {},
   "outputs": [],
   "source": [
    "# class TM\n",
    "class TM(student):\n",
    "    def __init__(self,name,email,phone,work_email):\n",
    "        super().__init__(name,email,phone)\n",
    "        self.work_email = work_email"
   ]
  },
  {
   "cell_type": "code",
   "execution_count": 44,
   "metadata": {},
   "outputs": [],
   "source": [
    "from moringa import Student\n",
    "student = Student(name = 'test_student',email='test_student@gmail',phone='03803411024',student_email='test_student@moringa')"
   ]
  },
  {
   "cell_type": "code",
   "execution_count": 52,
   "metadata": {},
   "outputs": [
    {
     "name": "stdout",
     "output_type": "stream",
     "text": [
      "test_student you have been warned\n"
     ]
    },
    {
     "data": {
      "text/plain": [
       "'test_student@moringa'"
      ]
     },
     "execution_count": 52,
     "metadata": {},
     "output_type": "execute_result"
    }
   ],
   "source": [
    "student.send_attendance_warning()\n",
    "student.name\n",
    "student.student_email"
   ]
  },
  {
   "cell_type": "markdown",
   "metadata": {},
   "source": [
    "# importing OOP Libraries "
   ]
  },
  {
   "cell_type": "code",
   "execution_count": null,
   "metadata": {},
   "outputs": [],
   "source": []
  },
  {
   "cell_type": "markdown",
   "metadata": {},
   "source": [
    "## Direct imports"
   ]
  },
  {
   "cell_type": "code",
   "execution_count": 19,
   "metadata": {},
   "outputs": [],
   "source": [
    "# example  \n",
    "\n"
   ]
  },
  {
   "cell_type": "code",
   "execution_count": 20,
   "metadata": {},
   "outputs": [],
   "source": [
    "# usage \n"
   ]
  },
  {
   "cell_type": "markdown",
   "metadata": {},
   "source": [
    "## Indirect Imports"
   ]
  },
  {
   "cell_type": "code",
   "execution_count": 21,
   "metadata": {},
   "outputs": [],
   "source": [
    "# example \n"
   ]
  },
  {
   "cell_type": "code",
   "execution_count": 22,
   "metadata": {},
   "outputs": [],
   "source": [
    "# usage \n"
   ]
  },
  {
   "cell_type": "code",
   "execution_count": null,
   "metadata": {},
   "outputs": [],
   "source": []
  }
 ],
 "metadata": {
  "kernelspec": {
   "display_name": "learn-env",
   "language": "python",
   "name": "python3"
  },
  "language_info": {
   "codemirror_mode": {
    "name": "ipython",
    "version": 3
   },
   "file_extension": ".py",
   "mimetype": "text/x-python",
   "name": "python",
   "nbconvert_exporter": "python",
   "pygments_lexer": "ipython3",
   "version": "3.8.5"
  }
 },
 "nbformat": 4,
 "nbformat_minor": 4
}
